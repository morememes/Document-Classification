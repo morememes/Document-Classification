{
 "cells": [
  {
   "cell_type": "code",
   "execution_count": 1,
   "metadata": {},
   "outputs": [],
   "source": [
    "from sympy import *\n",
    "import numpy as np"
   ]
  },
  {
   "cell_type": "code",
   "execution_count": 2,
   "metadata": {},
   "outputs": [],
   "source": [
    "x, y, z = symbols('x, y, z')"
   ]
  },
  {
   "cell_type": "markdown",
   "metadata": {},
   "source": [
    "Объявляем функцию"
   ]
  },
  {
   "cell_type": "code",
   "execution_count": 3,
   "metadata": {},
   "outputs": [
    {
     "data": {
      "text/plain": [
       "2*x**2 + x*y + x*z + x + 3.6*y**2 - y*z - 2*y + 4.6*z**2 + 3*z + 6"
      ]
     },
     "execution_count": 3,
     "metadata": {},
     "output_type": "execute_result"
    }
   ],
   "source": [
    "f = 2*x*x + 3.6*y*y + 4.6*z*z + x*y - y*z + x*z + x - 2*y + 3*z + 6\n",
    "f"
   ]
  },
  {
   "cell_type": "markdown",
   "metadata": {},
   "source": [
    "Подставляем в функцию точку (0, 0, 0)."
   ]
  },
  {
   "cell_type": "code",
   "execution_count": 4,
   "metadata": {},
   "outputs": [
    {
     "data": {
      "text/plain": [
       "6"
      ]
     },
     "execution_count": 4,
     "metadata": {},
     "output_type": "execute_result"
    }
   ],
   "source": [
    "args = {x:0, y:0, z:0}\n",
    "f.subs(args)"
   ]
  },
  {
   "cell_type": "markdown",
   "metadata": {},
   "source": [
    "Ответ 6. Все верно. Далее объявляем матрицы."
   ]
  },
  {
   "cell_type": "code",
   "execution_count": 8,
   "metadata": {},
   "outputs": [
    {
     "data": {
      "text/plain": [
       "(array([[ 2. ,  1. ,  1. ],\n",
       "        [ 1. ,  3.6, -1. ],\n",
       "        [ 1. , -1. ,  4.6]]), array([ 1, -2,  3]))"
      ]
     },
     "execution_count": 8,
     "metadata": {},
     "output_type": "execute_result"
    }
   ],
   "source": [
    "A = np.array([[2, 1, 1], [1, 3.6, -1], [1, -1, 4.6]])\n",
    "B = np.array([1, -2, 3])\n",
    "A, B"
   ]
  },
  {
   "cell_type": "code",
   "execution_count": null,
   "metadata": {},
   "outputs": [],
   "source": [
    "def get_point(x_list) -> dict:\n",
    "    return {x: x_list[0], y: x_list[1], z: x_list[2]}"
   ]
  },
  {
   "cell_type": "code",
   "execution_count": 5,
   "metadata": {},
   "outputs": [],
   "source": [
    "eps = 1e-6"
   ]
  },
  {
   "cell_type": "markdown",
   "metadata": {},
   "source": [
    "Стартовая точка (0,0,0)"
   ]
  },
  {
   "cell_type": "code",
   "execution_count": 7,
   "metadata": {},
   "outputs": [
    {
     "data": {
      "text/plain": [
       "6"
      ]
     },
     "execution_count": 7,
     "metadata": {},
     "output_type": "execute_result"
    }
   ],
   "source": [
    "x_k = np.array([0, 0, 0])\n",
    "f1 = f.subs({x: x_k[0], y: x_k[1], z: x_k[2]})\n",
    "f1"
   ]
  },
  {
   "cell_type": "markdown",
   "metadata": {},
   "source": [
    "Делаем нужные вычисления для МНГС. Где-то тут градиент, где-то еще одна херня :)"
   ]
  },
  {
   "cell_type": "code",
   "execution_count": 13,
   "metadata": {},
   "outputs": [
    {
     "data": {
      "text/plain": [
       "array([ 1., -2.,  3.])"
      ]
     },
     "execution_count": 13,
     "metadata": {},
     "output_type": "execute_result"
    }
   ],
   "source": [
    "q = np.dot(A, x_k) + B\n",
    "q"
   ]
  },
  {
   "cell_type": "code",
   "execution_count": 18,
   "metadata": {},
   "outputs": [
    {
     "data": {
      "text/plain": [
       "array([1., 4., 9.])"
      ]
     },
     "execution_count": 18,
     "metadata": {},
     "output_type": "execute_result"
    }
   ],
   "source": [
    "q*q"
   ]
  },
  {
   "cell_type": "code",
   "execution_count": 17,
   "metadata": {},
   "outputs": [
    {
     "data": {
      "text/plain": [
       "14.0"
      ]
     },
     "execution_count": 17,
     "metadata": {},
     "output_type": "execute_result"
    }
   ],
   "source": [
    "(q*q).sum(axis = 0)"
   ]
  },
  {
   "cell_type": "code",
   "execution_count": 24,
   "metadata": {},
   "outputs": [
    {
     "data": {
      "text/plain": [
       "-0.19498607242339838"
      ]
     },
     "execution_count": 24,
     "metadata": {},
     "output_type": "execute_result"
    }
   ],
   "source": [
    "u = - (q*q).sum(axis=0) / np.dot(q, np.dot(A, q.T))\n",
    "u"
   ]
  },
  {
   "cell_type": "markdown",
   "metadata": {},
   "source": [
    "Пускаем все это дело в цикл"
   ]
  },
  {
   "cell_type": "code",
   "execution_count": 30,
   "metadata": {},
   "outputs": [
    {
     "data": {
      "text/plain": [
       "[5.73386302092628,\n",
       " 5.67554629207333,\n",
       " 5.85153137089862,\n",
       " 5.88119605470808,\n",
       " 5.90282435291206,\n",
       " 5.90402837187149,\n",
       " 5.90803133235696,\n",
       " 5.90757223370218,\n",
       " 5.90941135720515,\n",
       " 5.90921689250528,\n",
       " 5.90999764416100,\n",
       " 5.90991549377786,\n",
       " 5.91024659226470,\n",
       " 5.91021181686334,\n",
       " 5.91035220865784,\n",
       " 5.91033747447926,\n",
       " 5.91039699983538,\n",
       " 5.91039075464149,\n",
       " 5.91041599247126,\n",
       " 5.91041334496835,\n",
       " 5.91042404531028,\n",
       " 5.91042292288647,\n",
       " 5.91042745960106,\n",
       " 5.91042698372925]"
      ]
     },
     "execution_count": 30,
     "metadata": {},
     "output_type": "execute_result"
    }
   ],
   "source": [
    "f_n = []\n",
    "x_k = np.array([0, 0, 0])\n",
    "while True:\n",
    "    q = np.dot(A, x_k) + B\n",
    "    u = - (q*q).sum(axis=0) / np.dot(q, np.dot(A, q.T))\n",
    "    x_k = x_k + q*u\n",
    "    f2 = f1\n",
    "    f1 = f.subs({x:x_k[0], y:x_k[1], z:x_k[2]})\n",
    "    f_n.append(f1)\n",
    "    if abs(f1 - f2) < eps:\n",
    "        break\n",
    "f_n"
   ]
  },
  {
   "cell_type": "markdown",
   "metadata": {},
   "source": [
    "В конце выводим значение функции на каждой итерации."
   ]
  },
  {
   "cell_type": "code",
   "execution_count": null,
   "metadata": {},
   "outputs": [],
   "source": []
  }
 ],
 "metadata": {
  "kernelspec": {
   "display_name": "Python 3",
   "language": "python",
   "name": "python3"
  },
  "language_info": {
   "codemirror_mode": {
    "name": "ipython",
    "version": 3
   },
   "file_extension": ".py",
   "mimetype": "text/x-python",
   "name": "python",
   "nbconvert_exporter": "python",
   "pygments_lexer": "ipython3",
   "version": "3.6.5"
  }
 },
 "nbformat": 4,
 "nbformat_minor": 2
}
